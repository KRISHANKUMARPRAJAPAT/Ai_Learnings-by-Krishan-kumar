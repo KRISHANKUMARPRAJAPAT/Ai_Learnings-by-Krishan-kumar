{
 "cells": [
  {
   "cell_type": "markdown",
   "id": "6e7ccbd9-b68a-45a1-b0a4-f1f8d777ac60",
   "metadata": {},
   "source": [
    "# Q1. What is the Probability density function? "
   ]
  },
  {
   "cell_type": "markdown",
   "id": "8f7f853c-e171-4a54-b71a-8854bb407202",
   "metadata": {},
   "source": [
    "# Ans : 1\n",
    "\n",
    "\n",
    "The Probability Density Function (PDF) is a function used in probability theory to describe the likelihood of a continuous random variable taking on specific values within a given range. It is non-negative and integrates to 1 over the entire range of the variable.\n",
    "The PDF only applies to continuous random variables. For discrete random variables, the analogous concept is called the Probability Mass Function (PMF), which assigns probabilities to specific values instead of intervals."
   ]
  },
  {
   "cell_type": "code",
   "execution_count": null,
   "id": "98f1b646-2a0b-4a41-9331-72251ad94710",
   "metadata": {},
   "outputs": [],
   "source": []
  },
  {
   "cell_type": "markdown",
   "id": "c29e99ca-7d28-4c96-8e62-4ae7c159e6ff",
   "metadata": {},
   "source": [
    "# Q2. What are the types of Probability distribution?"
   ]
  },
  {
   "cell_type": "markdown",
   "id": "9880c988-dbcb-4e69-aa32-d33be6780db6",
   "metadata": {},
   "source": [
    "# Ans: 2 \n",
    "\n",
    "\n",
    "There are several types of probability distributions in statistics, and they can be broadly categorized into two main groups: discrete probability distributions and continuous probability distributions.\n",
    "\n",
    ".\n",
    "\n",
    "- **Discrete Probability Distributions:**\n",
    "\n",
    "Bernoulli Distribution: Represents the probability of success (1) or failure (0) in a single trial.\n",
    "\n",
    "Binomial Distribution: Models the number of successes in a fixed number of independent Bernoulli trials.\n",
    "\n",
    "Poisson Distribution: Describes the number of events that occur in a fixed interval of time or space.\n",
    "\n",
    "Geometric Distribution: Represents the number of trials needed to achieve the first success in a sequence of Bernoulli trials.\n",
    "\n",
    "Hypergeometric Distribution: Models the number of successes in a fixed number of draws without replacement from a finite population of two types of items.\n",
    "\n",
    "Discrete Uniform Distribution: Gives equal probability to each possible outcome in a finite range.\n",
    "\n",
    "\n",
    "\n",
    "\n",
    ".\n",
    "\n",
    "\n",
    "\n",
    "-  **Continuous Probability Distributions:**\n",
    "\n",
    "\n",
    "\n",
    "\n",
    "\n",
    "Normal (Gaussian) Distribution: Characterized by a bell-shaped curve and widely used in statistical analyses due to its properties.\n",
    "\n",
    "Uniform Distribution: Has a constant probability over a defined interval, resulting in a rectangular-shaped distribution.\n",
    "\n",
    "Exponential Distribution: Models the time between events in a Poisson process.\n",
    "\n",
    "Gamma Distribution: Generalizes the exponential distribution and is used to model waiting times for multiple events.\n",
    "\n",
    "Beta Distribution: Represents random variables with values between 0 and 1 and is commonly used in Bayesian statistics.\n",
    "\n",
    "Chi-Squared Distribution: Arises in various statistical tests, such as the chi-squared test for independence.\n",
    "\n",
    "Student's t-Distribution: Used in hypothesis testing when the sample size is small or the population standard deviation is unknown.\n",
    "F-Distribution: Arises in the analysis of variance (ANOVA) and regression."
   ]
  },
  {
   "cell_type": "code",
   "execution_count": null,
   "id": "0e4c780b-3e8b-4a10-b83f-37c6d2247abf",
   "metadata": {},
   "outputs": [],
   "source": []
  },
  {
   "cell_type": "markdown",
   "id": "761fb9be-68b7-4492-b7c9-3e80c8006ad8",
   "metadata": {},
   "source": [
    "# Q3. Write a Python function to calculate the probability density function of a normal distribution with given mean and standard deviation at a given point."
   ]
  },
  {
   "cell_type": "code",
   "execution_count": 1,
   "id": "1215b40b-47ea-4851-8f29-8440383789ac",
   "metadata": {},
   "outputs": [
    {
     "name": "stdout",
     "output_type": "stream",
     "text": [
      "The PDF at x = 7.5 is 0.09132\n"
     ]
    }
   ],
   "source": [
    "# Ans : 3\n",
    "\n",
    "import math\n",
    "\n",
    "def normal_pdf(x, mean, std_dev):\n",
    "    \"\"\"\n",
    "    Calculate the Probability Density Function (PDF) of a normal distribution\n",
    "    at a given point.\n",
    "\n",
    "    Parameters:\n",
    "        x (float): The value at which to evaluate the PDF.\n",
    "        mean (float): The mean of the normal distribution.\n",
    "        std_dev (float): The standard deviation of the normal distribution.\n",
    "\n",
    "    Returns:\n",
    "        float: The probability density at the given point.\n",
    "    \"\"\"\n",
    "    coefficient = 1 / (std_dev * math.sqrt(2 * math.pi))\n",
    "    exponent = -(x - mean) ** 2 / (2 * std_dev ** 2)\n",
    "    pdf_value = coefficient * math.exp(exponent)\n",
    "    return pdf_value\n",
    "\n",
    "# Example usage:\n",
    "mean = 5.0\n",
    "std_dev = 2.0\n",
    "point = 7.5\n",
    "pdf_at_point = normal_pdf(point, mean, std_dev)\n",
    "print(f\"The PDF at x = {point} is {pdf_at_point:.5f}\")"
   ]
  },
  {
   "cell_type": "code",
   "execution_count": null,
   "id": "bc6a60cf-b4e9-4496-b1e6-57c510fe9066",
   "metadata": {},
   "outputs": [],
   "source": []
  },
  {
   "cell_type": "markdown",
   "id": "093bfcd2-3811-47b6-a58f-c1e1487d74d2",
   "metadata": {},
   "source": [
    "# Q4. What are the properties of Binomial distribution? Give two examples of events where binomial distribution can be applied."
   ]
  },
  {
   "cell_type": "markdown",
   "id": "89a5f372-842b-4d02-a8b3-68a4e8b31c2f",
   "metadata": {},
   "source": [
    "# Ans: 4 \n",
    "\n",
    "\n",
    "Properties of the Binomial Distribution:\n",
    "\n",
    "- Discrete Probability Distribution: The binomial distribution is a discrete probability distribution, meaning it is defined for a discrete set of possible outcomes.\n",
    "\n",
    "- Binary Outcomes: It models situations where there are only two possible outcomes for each trial: success or failure.\n",
    "\n",
    "- Independent Trials: Each trial is assumed to be independent of the others, meaning the outcome of one trial does not affect the outcome of another.\n",
    "\n",
    "- Fixed Number of Trials: The number of trials (n) is fixed in advance and does not change.\n",
    "\n",
    "- Constant Probability: The probability of success (p) remains constant across all trials.\n",
    "\n",
    "- Parameters: The binomial distribution is characterized by two parameters: the number of trials (n) and the probability of success in a single trial (p).\n",
    "\n",
    ".\n",
    "\n",
    "Two Examples of Events where Binomial Distribution can be Applied:\n",
    "\n",
    "\n",
    "\n",
    "**Coin Tossing:** When flipping a fair coin, there are two possible outcomes: heads (success) or tails (failure). Each flip is independent of others, and the probability of getting heads (p) remains constant at 0.5 for a fair coin. We can use the binomial distribution to calculate the probability of getting a specific number of heads in a fixed number of coin flips.\n",
    "\n",
    "**Quality Control:** In manufacturing, products are often inspected for defects. Suppose a quality control team inspects a batch of items and classifies each item as either defective (success) or non-defective (failure). The binomial distribution can be used to determine the probability of finding a certain number of defective items in the batch, given the overall defect rate (probability of success) and the number of items inspected.\n",
    "\n",
    "In both of these examples, the binomial distribution allows us to model and analyze the probabilities associated with the number of successes in a series of independent trials."
   ]
  },
  {
   "cell_type": "code",
   "execution_count": null,
   "id": "5b718550-f3cd-4f22-8424-2dede33fe45f",
   "metadata": {},
   "outputs": [],
   "source": []
  },
  {
   "cell_type": "markdown",
   "id": "6ca90720-a48a-4aaa-be54-0797f3c54378",
   "metadata": {},
   "source": [
    "# Q5. Generate a random sample of size 1000 from a binomial distribution with probability of success 0.4 and plot a histogram of the results using matplotlib."
   ]
  },
  {
   "cell_type": "code",
   "execution_count": 3,
   "id": "7687efb4-d810-4d1f-9bb6-a1a2c25f0ef1",
   "metadata": {},
   "outputs": [
    {
     "data": {
      "image/png": "[encoded data removed]",
      "text/plain": [
       "<Figure size 640x480 with 1 Axes>"
      ]
     },
     "metadata": {},
     "output_type": "display_data"
    }
   ],
   "source": [
    "# Ans : 5 \n",
    "\n",
    "import numpy as np\n",
    "import matplotlib.pyplot as plt\n",
    "\n",
    "# Parameters for the binomial distribution\n",
    "probability_of_success = 0.4\n",
    "sample_size = 1000\n",
    "\n",
    "# Generate random sample from the binomial distribution\n",
    "random_sample = np.random.binomial(n=1, p=probability_of_success, size=sample_size)\n",
    "\n",
    "# Plot the histogram\n",
    "plt.hist(random_sample, bins=[0, 1, 2], align='left', rwidth=0.8 ,color= '#6F15C3')\n",
    "plt.xticks([0, 1], ['Failure', 'Success'])\n",
    "plt.xlabel('Outcome')\n",
    "plt.ylabel('Frequency')\n",
    "plt.title('Histogram of Binomial Distribution (n=1, p=0.4, Sample Size=1000)')\n",
    "plt.show()"
   ]
  },
  {
   "cell_type": "code",
   "execution_count": null,
   "id": "058e60a6-09c1-4add-8591-39bebedb1372",
   "metadata": {},
   "outputs": [],
   "source": []
  },
  {
   "cell_type": "markdown",
   "id": "3c06e60e-b608-4132-916d-b0cafe84b08f",
   "metadata": {},
   "source": [
    "# Q6. Write a Python function to calculate the cumulative distribution function of a Poisson distribution with given mean at a given point."
   ]
  },
  {
   "cell_type": "code",
   "execution_count": 4,
   "id": "04480b3f-6641-43a2-b89c-2862930983b6",
   "metadata": {},
   "outputs": [
    {
     "name": "stdout",
     "output_type": "stream",
     "text": [
      "The CDF at x = 2 is 0.32085\n"
     ]
    }
   ],
   "source": [
    "#Ans: 6 \n",
    "\n",
    "\n",
    "def poisson_cdf(x, mean):\n",
    "    \"\"\"\n",
    "    Calculate the Cumulative Distribution Function (CDF) of a Poisson distribution\n",
    "    at a given point.\n",
    "\n",
    "    Parameters:\n",
    "        x (int): The value at which to evaluate the CDF.\n",
    "        mean (float): The mean of the Poisson distribution.\n",
    "\n",
    "    Returns:\n",
    "        float: The cumulative probability at the given point.\n",
    "    \"\"\"\n",
    "    cdf_value = 0.0\n",
    "    for i in range(x + 1):\n",
    "        cdf_value += (math.exp(-mean) * mean ** i) / math.factorial(i)\n",
    "    return cdf_value\n",
    "\n",
    "# Example usage:\n",
    "mean = 3.5\n",
    "point = 2\n",
    "cdf_at_point = poisson_cdf(point, mean)\n",
    "print(f\"The CDF at x = {point} is {cdf_at_point:.5f}\")"
   ]
  },
  {
   "cell_type": "code",
   "execution_count": null,
   "id": "6fd2e01a-d176-4020-9149-aae440cbbae1",
   "metadata": {},
   "outputs": [],
   "source": []
  },
  {
   "cell_type": "markdown",
   "id": "a0f74155-017a-4a05-bcb1-ad8d0ca67d51",
   "metadata": {},
   "source": [
    "# Q7. How Binomial distribution different from Poisson distribution?"
   ]
  },
  {
   "cell_type": "markdown",
   "id": "a26687cb-6cb1-417a-b822-026e5551be54",
   "metadata": {},
   "source": [
    "# Ans: 7\n",
    "\n",
    "The Binomial and Poisson distributions are both used to model the number of events that happen, but they are different in how they represent those events.The key differences are that the Binomial distribution deals with a fixed number of independent trials with two possible outcomes, while the Poisson distribution deals with a random process with an unknown number of events occurring in a fixed interval or region, where the events happen independently and at a constant rate.\n",
    "\n",
    "**Binomial Distribution:**\n",
    "\n",
    "- Applicable when we have a fixed number of independent trials (repeated experiments).\n",
    "\n",
    "- Each trial has only two possible outcomes: success or failure.\n",
    "\n",
    "- The probability of success remains the same for all trials.\n",
    "\n",
    "- Examples: Coin tosses, counting the number of heads in 10 coin flips, or the number of defective items in a batch.\n",
    "\n",
    ".\n",
    "\n",
    "**Poisson Distribution:**\n",
    "\n",
    "- Applicable when we have a random process where events occur independently over time or space.\n",
    "\n",
    "- Represents the number of events that happen in a fixed interval or region.\n",
    "\n",
    "- There is no fixed number of trials; the number of events can be any non-negative whole number.\n",
    "\n",
    "- The average rate at which events happen (mean) remains constant over time or space.\n",
    "\n",
    "- Examples: Counting the number of cars passing a point in an hour, the number of typos in a book, or the number of calls received at a customer service center in a day.\n",
    "\n",
    "\n",
    "\n",
    "\n",
    "\n"
   ]
  },
  {
   "cell_type": "code",
   "execution_count": null,
   "id": "81496348-2ceb-4b85-8012-d687bdd5be61",
   "metadata": {},
   "outputs": [],
   "source": []
  },
  {
   "cell_type": "markdown",
   "id": "3e19da4c-d4b6-447c-977a-73d936878280",
   "metadata": {},
   "source": [
    "# Q8. Generate a random sample of size 1000 from a Poisson distribution with mean 5 and calculate the sample mean and variance."
   ]
  },
  {
   "cell_type": "code",
   "execution_count": 5,
   "id": "9af4689f-9b2d-4092-b8a4-9e0c633aa7f2",
   "metadata": {},
   "outputs": [
    {
     "name": "stdout",
     "output_type": "stream",
     "text": [
      "Sample Mean: 5.094\n",
      "Sample Variance: 4.886\n"
     ]
    }
   ],
   "source": [
    "# Ans: 8 \n",
    "\n",
    "import numpy as np\n",
    "\n",
    "# Parameters for the Poisson distribution\n",
    "mean = 5\n",
    "sample_size = 1000\n",
    "\n",
    "# Generate random sample from the Poisson distribution\n",
    "random_sample = np.random.poisson(lam=mean, size=sample_size)\n",
    "\n",
    "# Calculate the sample mean and variance\n",
    "sample_mean = np.mean(random_sample)\n",
    "sample_variance = np.var(random_sample, ddof=1)  # ddof=1 for unbiased variance estimation\n",
    "\n",
    "# Display the results\n",
    "print(f\"Sample Mean: {sample_mean:.3f}\")\n",
    "print(f\"Sample Variance: {sample_variance:.3f}\")\n"
   ]
  },
  {
   "cell_type": "code",
   "execution_count": null,
   "id": "97fb8c4a-29b7-43d5-b3ef-51155e239300",
   "metadata": {},
   "outputs": [],
   "source": []
  },
  {
   "cell_type": "markdown",
   "id": "c531c4c4-950a-4efc-99a3-66ed63a7e79b",
   "metadata": {},
   "source": [
    "# Q9. How mean and variance are related in Binomial distribution and Poisson distribution?"
   ]
  },
  {
   "cell_type": "markdown",
   "id": "46cc3ce4-b4b0-4fa9-a399-61e458b233df",
   "metadata": {},
   "source": [
    "# Ans: 9 \n",
    "In both the Binomial and Poisson distributions, the mean and variance are related, but the specific relationship is different for each distribution.\n",
    "In the Binomial distribution, the variance depends on both the number of trials and the probability of success, while in the Poisson distribution, the variance is solely determined by the mean (λ). Additionally, in the Poisson distribution, the mean and variance are always equal, while in the Binomial distribution, they are related through the probability of success (p) as well.\n",
    "\n",
    "\n",
    "**Binomial Distribution:**\n",
    "\n",
    "- Mean (μ) = n * p\n",
    "\n",
    "- Variance (σ²) = n * p * (1 - p)\n",
    "\n",
    "In the Binomial distribution, the mean is equal to the number of trials (n) multiplied by the probability of success in a single trial (p). The variance is also dependent on the number of trials (n) and the probability of success (p). As the probability of success (p) increases, the variance generally decreases, and vice versa.\n",
    "\n",
    ".\n",
    "\n",
    "**Poisson Distribution:**\n",
    "\n",
    "- Mean (μ) = λ (lambda)\n",
    "\n",
    "- Variance (σ²) = λ (lambda)\n",
    "\n",
    "In the Poisson distribution, both the mean and variance are equal to the parameter λ (lambda), which represents the average rate of events occurring in a fixed interval or region. This means that in a Poisson distribution, the mean and variance are always the same, regardless of the value of λ."
   ]
  },
  {
   "cell_type": "code",
   "execution_count": null,
   "id": "e0a3e189-b5dc-41b4-8f92-869025999adf",
   "metadata": {},
   "outputs": [],
   "source": []
  },
  {
   "cell_type": "markdown",
   "id": "db86874b-b0ec-4c37-a9bf-841df18493ed",
   "metadata": {},
   "source": [
    "# Q10. In normal distribution with respect to mean position, where does the least frequent data appear?"
   ]
  },
  {
   "cell_type": "markdown",
   "id": "b958ce2d-814e-4963-9355-824c0efd1af0",
   "metadata": {},
   "source": [
    "# Ans: 10 \n",
    "\n",
    "\n",
    "In a normal distribution, also known as the Gaussian distribution or bell curve, the least frequent data appears at the tails of the distribution, farthest away from the mean position.\n",
    "\n",
    "The normal distribution is symmetric around its mean, and the majority of the data points are concentrated near the mean. As you move away from the mean towards the tails of the distribution, the data becomes increasingly less frequent. The tails of the normal distribution represent extreme values, and they occur much less frequently compared to the values near the mean.\n",
    "\n",
    "The standard normal distribution, with a mean of 0 and a standard deviation of 1, is often used as a reference. In this standard normal distribution, about 68% of the data falls within one standard deviation from the mean, about 95% within two standard deviations, and about 99.7% within three standard deviations."
   ]
  },
  {
   "cell_type": "code",
   "execution_count": null,
   "id": "807f0fb0-2334-412d-9ca1-acf367c6e8f6",
   "metadata": {},
   "outputs": [],
   "source": []
  },
  {
   "cell_type": "markdown",
   "id": "289e034e-5f55-4c85-a6e7-379b2e3bddf2",
   "metadata": {},
   "source": [
    "# Q11: What are the Probability Mass Function (PMF) and Probability Density Function (PDF)? Explain with an example."
   ]
  },
  {
   "cell_type": "markdown",
   "id": "be9ed4df-6eec-4517-8473-ef8adf26fb79",
   "metadata": {},
   "source": [
    "# Ans: 11\n",
    "\n",
    "\n",
    "The Probability Mass Function (PMF) and Probability Density Function (PDF) are both mathematical functions used in probability theory and statistics to describe the probability distribution of random variables. They help us understand the likelihood of different outcomes or values for discrete and continuous random variables, respectively.\n",
    "\n",
    "**Probability Mass Function (PMF):**\n",
    "\n",
    "The PMF is used for discrete random variables. It gives the probability of a random variable taking on a specific value. In other words, it maps each possible value of the random variable to its associated probability.\n",
    "\n",
    "For a discrete random variable X, the PMF is denoted as P(X = x), where x is a specific value of X. \n",
    "\n",
    "The PMF satisfies two properties:\n",
    "- P(X = x) ≥ 0 for all possible values of x.\n",
    "- The sum of the probabilities for all possible values of X is equal to 1.\n",
    "\n",
    ".\n",
    "\n",
    "**Probability Density Function (PDF):**\n",
    "The PDF is used for continuous random variables. Unlike the PMF, the PDF does not give the probability of the random variable taking on a specific value, as the probability at any single point for a continuous random variable is zero. Instead, it provides the relative likelihood of the random variable falling within a given range or interval.\n",
    "\n",
    "For a continuous random variable X, the PDF is denoted as f(x), and the probability of X being within a certain interval [a, b] is given by the integral of the PDF over that interval: ∫[a to b] f(x) dx.\n",
    "\n",
    "Example:\n",
    "Let's consider two examples to understand PMF and PDF:\n",
    "\n",
    "**1. Coin Toss (Discrete):**\n",
    "Suppose we toss a fair coin, where \"H\" represents heads and \"T\" represents tails. The random variable X is the outcome of the coin toss. The PMF for this example is:\n",
    "\n",
    "- P(X = H) = 0.5 (Probability of getting heads)\n",
    "- P(X = T) = 0.5 (Probability of getting tails)\n",
    "\n",
    "\n",
    "**2. Height of Students (Continuous):**\n",
    "\n",
    "Suppose we have a population of students, and the random variable X represents their height in centimeters. The heights form a continuous distribution. The PDF for this example might look like a bell-shaped curve (normal distribution). It tells us the relative likelihood of finding students with different heights in different ranges.\n",
    "\n",
    "For instance, the PDF might show that heights around 170 cm are more likely, while very tall heights (e.g., 200 cm) are less likely, but it doesn't give the exact probability of any specific height (e.g., P(X = 180 cm) is zero because the probability of hitting any single point in a continuous distribution is zero)."
   ]
  },
  {
   "cell_type": "code",
   "execution_count": null,
   "id": "b099af50-bfbf-431e-9cc1-a8264c4f8a8c",
   "metadata": {},
   "outputs": [],
   "source": []
  },
  {
   "cell_type": "markdown",
   "id": "bd213179-083d-4c8d-8cda-ad8d3e703bf5",
   "metadata": {},
   "source": [
    "# Q12: What is Cumulative Density Function (CDF)? Explain with an example. Why CDF is used?"
   ]
  },
  {
   "cell_type": "markdown",
   "id": "00407b49-bfab-4da5-bcfa-8496de1f39e2",
   "metadata": {},
   "source": [
    "# Ans : 12 \n",
    "\n",
    "The Cumulative Density Function (CDF) is a fundamental concept in probability theory and statistics. It is used to describe the probability distribution of a random variable, both for discrete and continuous cases. The CDF gives the probability that a random variable is less than or equal to a specific value.\n",
    "\n",
    "The CDF provides a cumulative view of the probabilities of the random variable being less than or equal to a given value. It allows us to analyze and understand the behavior of the random variable across its entire range.\n",
    "\n",
    "**Example: Rolling a Six-Sided Die (Discrete Random Variable)**\n",
    "Suppose we have a fair six-sided die, and we are interested in the outcome of rolling the die. The random variable X represents the result of the roll (1, 2, 3, 4, 5, or 6). The CDF for this example is:\n",
    "\n",
    "- F(1) = P(X ≤ 1) = P(X = 1) = 1/6\n",
    "- F(2) = P(X ≤ 2) = P(X = 1) + P(X = 2) = 1/6 + 1/6 = 1/3\n",
    "- F(3) = P(X ≤ 3) = P(X = 1) + P(X = 2) + P(X = 3) = 1/6 + 1/6 + 1/6 = 1/2\n",
    "- And so on...\n",
    "\n",
    "In this example, the CDF tells us the probability of rolling a number less than or equal to a given value. For instance, F(3) = 1/2 means that there is a 50% chance of rolling a number less than or equal to 3 on the die.\n",
    "\n",
    "**Why CDF is used?**\n",
    "\n",
    "The CDF is used for several reasons:\n",
    "\n",
    "- **Cumulative Probability:** The CDF provides cumulative probabilities for the random variable, making it easy to calculate probabilities for intervals of values.\n",
    "\n",
    "- **Describing Distribution:** The CDF characterizes the distribution of a random variable, showing how the probability is distributed across its -entire range.\n",
    "\n",
    "- **Finding Percentiles:** The CDF can be used to find percentiles (e.g., the median, quartiles) of the distribution.\n",
    "\n",
    "- **Statistical Inference:** The CDF is essential for statistical tests and hypothesis testing."
   ]
  },
  {
   "cell_type": "code",
   "execution_count": null,
   "id": "431ac041-2e0c-4c97-a126-8a34bfc6d45c",
   "metadata": {},
   "outputs": [],
   "source": []
  },
  {
   "cell_type": "markdown",
   "id": "e290f116-58a2-4046-868d-0968bb0d4147",
   "metadata": {},
   "source": [
    "# Q13: What are some examples of situations where the normal distribution might be used as a model? Explain how the parameters of the normal distribution relate to the shape of the distribution."
   ]
  },
  {
   "cell_type": "markdown",
   "id": "34c05516-8db3-407c-936d-0aeb5454ce99",
   "metadata": {},
   "source": [
    "# Ans : 13\n",
    "\n",
    "\n",
    "The normal distribution, also known as the Gaussian distribution, is a fundamental probability distribution used in various fields to model and analyze data. It is characterized by its bell-shaped curve and is fully determined by two parameters: the mean (μ) and the standard deviation (σ).\n",
    "\n",
    ".\n",
    "\n",
    "  **Here are some examples of situations where the normal distribution might be used as a model:**\n",
    "\n",
    "- **Natural Phenomena:** Many natural phenomena follow a normal distribution, such as the height of individuals in a population, weights of products produced by a machine, errors in measurements, etc.\n",
    "\n",
    "- **Financial Markets:** In finance, asset returns and stock prices are often assumed to be normally distributed when using models like the Black-Scholes option pricing model or analyzing portfolio performance.\n",
    "\n",
    "- **IQ Scores:** Intelligence quotient (IQ) scores are often modeled using a normal distribution, where the mean IQ is typically set to 100 and the standard deviation is 15.\n",
    "\n",
    "- **Test Scores:** Test scores in large populations tend to follow a normal distribution, making it convenient for educational institutions to analyze and compare results.\n",
    "\n",
    "- **Measurement Errors:** Errors in scientific measurements are often assumed to be normally distributed around the true value.\n",
    "\n",
    "- **Biological Traits:** Certain biological traits like blood pressure, cholesterol levels, or heart rate may be normally distributed in a population.\n",
    "\n",
    "\n",
    ".\n",
    "\n",
    "\n",
    "**Parameters of the Normal Distribution and Their Relation to the Shape:**\n",
    "\n",
    "- **Mean (μ):** The mean represents the central tendency of the distribution, determining where the peak of the bell curve is located. Shifting the mean left or right will move the entire distribution along the x-axis. If μ increases, the curve shifts to the right, and if μ decreases, the curve shifts to the left.\n",
    "\n",
    "- **Standard Deviation (σ):** The standard deviation controls the spread or dispersion of the distribution. A larger σ results in a broader and flatter curve, whereas a smaller σ leads to a taller and narrower curve. If σ increases, the curve becomes flatter, and if σ decreases, the curve becomes more peaked.\n",
    "\n",
    "Together, the mean and standard deviation uniquely define the normal distribution. Mathematically, a normal distribution is denoted as N(μ, σ), where μ is the mean and σ is the standard deviation.\n",
    "\n",
    "When data is approximately normally distributed, it allows for the application of various statistical methods, as the normal distribution is well-studied and its properties are well-understood, making it a powerful tool in data analysis and inference. However, it's important to note that not all data naturally follows a normal distribution, and in some cases, other distributions might be more appropriate for modeling specific situations."
   ]
  },
  {
   "cell_type": "code",
   "execution_count": null,
   "id": "325c47e0-75e9-4b02-ac51-49e57ca9544b",
   "metadata": {},
   "outputs": [],
   "source": []
  },
  {
   "cell_type": "markdown",
   "id": "3d0b052a-50f2-4ccd-bb3b-36db42057a1a",
   "metadata": {},
   "source": [
    "# Q14: Explain the importance of Normal Distribution. Give a few real-life examples of Normal Distribution."
   ]
  },
  {
   "cell_type": "markdown",
   "id": "71a02eca-f983-49a8-9af2-3adeeb858432",
   "metadata": {},
   "source": [
    "# Ans: 14 \n",
    "\n",
    "The normal distribution is of immense importance in various fields due to its many properties and applications. \n",
    "\n",
    "**Some of the key reasons why the normal distribution holds such significance include:**\n",
    "\n",
    "- **Central Limit Theorem:** One of the most crucial properties of the normal distribution is the Central Limit Theorem. It states that the sum (or average) of a large number of independent, identically distributed random variables will be approximately normally distributed, regardless of the original distribution. This theorem is the foundation of inferential statistics, enabling us to make inferences about a population based on a sample.\n",
    "\n",
    "- **Data Modeling:** The normal distribution is often used as a model to approximate real-world data, particularly when dealing with continuous data that clusters around a central value with symmetrical tails. It provides a convenient and mathematically tractable way to describe and analyze various phenomena.\n",
    "\n",
    "- **Statistical Inference:** Many statistical methods and hypothesis tests are based on the assumption of normality. When data follow a normal distribution, statistical inference becomes more accurate and powerful.\n",
    "\n",
    "- **Precision and Control:** In manufacturing and quality control processes, the normal distribution is used to set tolerances and control limits. This ensures that most of the products or processes fall within acceptable ranges, reducing defects and variations.\n",
    "\n",
    "- **Risk Management:** In finance and insurance, the normal distribution is often used to model asset returns, insurance claims, and various risks. It allows for risk assessment and determination of probabilities associated with different outcomes.\n",
    "\n",
    "- **Sampling and Surveying:** When conducting surveys or polls, the normal distribution is used to estimate population parameters from sample data, taking advantage of the Central Limit Theorem.\n",
    "\n",
    "**Real-life Examples of Normal Distribution:**\n",
    "\n",
    "- **Height of Adults:** In a large population, the distribution of heights of adults tends to follow a normal distribution. Most people cluster around the average height, with fewer individuals at the extreme ends (very tall or very short).\n",
    "\n",
    "- **Exam Scores:** When a significant number of students take an exam, their scores often approximate a normal distribution. The majority of students score around the average, with fewer students receiving very low or very high scores.\n",
    "\n",
    "- **Weights of Products:** The weights of products produced by a manufacturing process can often be modeled using a normal distribution. This is valuable for setting weight limits and ensuring quality control.\n",
    "\n",
    "- **Temperature:** Daily temperatures in a particular location often follow a normal distribution, with the highest frequency occurring around the average temperature for that season.\n",
    "\n",
    "- **Errors in Measurement:** Errors in scientific measurements are usually assumed to be normally distributed. This is crucial for estimating the uncertainty and accuracy of the measurements.\n",
    "\n",
    "- **Reaction Times:** In psychological or cognitive studies, the distribution of reaction times tends to follow a normal distribution."
   ]
  },
  {
   "cell_type": "code",
   "execution_count": null,
   "id": "b501df42-c17a-4e7a-9e8e-8d720798078a",
   "metadata": {},
   "outputs": [],
   "source": []
  },
  {
   "cell_type": "markdown",
   "id": "2727f4f2-3e01-401a-8cce-da152e1ecf0e",
   "metadata": {},
   "source": [
    "# Q15: What is Bernaulli Distribution? Give an Example. What is the difference between Bernoulli Distribution and Binomial Distribution?"
   ]
  },
  {
   "cell_type": "markdown",
   "id": "753c4003-f4f1-4dcf-9364-d0138dd9a9ad",
   "metadata": {},
   "source": [
    "# Ans : 15 \n",
    "\n",
    "\n",
    "The Bernoulli distribution is a discrete probability distribution that models a random experiment with two possible outcomes: success (usually denoted by 1) and failure (usually denoted by 0).The key characteristic of the Bernoulli distribution is that there is a single trial, and the probability of success (denoted by \"p\") remains constant across all trials. The probability of failure is given by (1 - p).\n",
    "\n",
    "Mathematically, the probability mass function (PMF) of the Bernoulli distribution is:\n",
    "\n",
    "P(X = k) = p^k * (1 - p)^(1 - k)\n",
    "\n",
    "\n",
    "The mean (expected value) and variance of the Bernoulli distribution are:\n",
    "\n",
    "Mean (μ) = p\n",
    "\n",
    "Variance (σ^2) = p * (1 - p)\n",
    "\n",
    "\n",
    "**Example of Bernoulli Distribution:**\n",
    "\n",
    "Let's consider a simple example of flipping a fair coin. The outcome of the experiment can be either \"Heads\" (H) or \"Tails\" (T). We can define success (X = 1) as getting \"Heads\" and failure (X = 0) as getting \"Tails.\"\n",
    "\n",
    "In this case, the probability of getting \"Heads\" (p) is 0.5 since the coin is fair, and the probability of getting \"Tails\" is (1 - 0.5) = 0.5.\n",
    "\n",
    "Now, let's calculate the probabilities of different outcomes.\n",
    "As expected, the probabilities of success (getting \"Heads\") and failure (getting \"Tails\") both add up to 1, indicating that these are the only two possible outcomes.\n",
    "\n",
    "The mean of this Bernoulli distribution is μ = 0.5, and the variance is σ^2 = 0.5 * (1 - 0.5) = 0.25.\n",
    "\n",
    "In real-life applications, the Bernoulli distribution is often used in scenarios where there are only two possible outcomes in a single trial, such as modeling the success or failure of an event, the occurrence of a binary event, or the presence or absence of a characteristic in a sample.\n",
    "\n",
    "\n",
    ".\n",
    "\n",
    "\n",
    "**Difference between Bernoulli Distribution and Binomial Distribution:**\n",
    "\n",
    "**Bernoulli Distribution:**\n",
    "\n",
    "- **Number of Trials:** The Bernoulli distribution represents a single trial, meaning there is only one event or experiment.\n",
    "- **Outcomes:** It has two possible outcomes: success (usually denoted by 1) and failure (usually denoted by 0).\n",
    "- **Probability:** The probability of success (denoted by \"p\") remains constant across all trials. The probability of failure is given by (1 - p).\n",
    "- **Probability Mass Function (PMF):** The PMF of the Bernoulli distribution is given by P(X = k) = p^k * (1 - p)^(1 - k), where k is either 0 or 1.\n",
    "\n",
    "\n",
    "**Binomial Distribution:**\n",
    "\n",
    "- **Number of Trials:** The binomial distribution represents multiple independent and identical trials or experiments.\n",
    "- **Outcomes:** Each trial in the binomial distribution can have two possible outcomes: success (usually denoted by 1) and failure (usually denoted by 0).\n",
    "- **Probability:** The probability of success (denoted by \"p\") remains constant across all trials. The probability of failure is given by (1 - p).\n",
    "\n",
    "- **Probability Mass Function (PMF):** The PMF of the binomial distribution is given by P(X = k) = nCk * p^k * (1 - p)^(n - k), where:\n",
    "- k is the number of successes we want to achieve (0 to n).\n",
    "- n is the total number of trials or experiments.\n",
    "- nCk is the binomial coefficient, representing the number of ways to choose k successes out of n trials."
   ]
  },
  {
   "cell_type": "code",
   "execution_count": null,
   "id": "52a26bb8-35fa-4940-8f56-7ed95e50e173",
   "metadata": {},
   "outputs": [],
   "source": []
  },
  {
   "cell_type": "markdown",
   "id": "f0467a7a-ff44-47ad-9a03-6bc68191266b",
   "metadata": {},
   "source": [
    "# Q16. Consider a dataset with a mean of 50 and a standard deviation of 10. If we assume that the dataset is normally distributed, what is the probability that a randomly selected observation will be greater than 60? Use the appropriate formula and show your calculations."
   ]
  },
  {
   "cell_type": "markdown",
   "id": "0d2abce1-55a9-47fe-b3ff-17857be381d2",
   "metadata": {},
   "source": [
    "# Ans : 16 \n",
    "\n",
    "To find the probability that a randomly selected observation from the normally distributed dataset will be greater than 60, we can use the Z-score formula and the standard normal distribution table (cumulative distribution function).\n",
    "\n",
    "The Z-score formula is given by:\n",
    "\n",
    "Z = (X - μ) / σ\n",
    "\n",
    "where:\n",
    "\n",
    "X is the value we want to find the probability for (in this case, 60).\n",
    "\n",
    "μ is the mean of the dataset (given as 50).\n",
    "\n",
    "σ is the standard deviation of the dataset (given as 10)."
   ]
  },
  {
   "cell_type": "code",
   "execution_count": 6,
   "id": "a9f3e75a-c665-4c24-ad3a-9c2e25aa59f4",
   "metadata": {},
   "outputs": [
    {
     "name": "stdout",
     "output_type": "stream",
     "text": [
      "The probability that a randomly selected observation will be greater than 60 is: 0.15865525393145707\n"
     ]
    }
   ],
   "source": [
    "import scipy.stats as stats\n",
    "\n",
    "mean = 50\n",
    "std_dev = 10\n",
    "X = 60\n",
    "\n",
    "# Calculate the Z-score\n",
    "Z = (X - mean) / std_dev\n",
    "\n",
    "# Calculate the probability using the cumulative distribution function (CDF)\n",
    "probability = 1 - stats.norm.cdf(Z)\n",
    "\n",
    "print(\"The probability that a randomly selected observation will be greater than 60 is:\", probability)"
   ]
  },
  {
   "cell_type": "code",
   "execution_count": null,
   "id": "69e68a20-31e2-4bea-afec-4dadb5db8430",
   "metadata": {},
   "outputs": [],
   "source": []
  },
  {
   "cell_type": "markdown",
   "id": "99fe1793-22c4-4f67-9338-9d7df2338d6b",
   "metadata": {},
   "source": [
    "# Q17: Explain uniform Distribution with an example."
   ]
  },
  {
   "cell_type": "markdown",
   "id": "55ad0b9e-2204-492b-b6ee-cd232b58c395",
   "metadata": {},
   "source": [
    "# Ans: 17 \n",
    "\n",
    "Uniform distribution is a type of probability distribution where all the possible outcomes have equal chances of occurring. It's like flipping a fair coin, where the probability of getting heads and tails is the same.\n",
    "\n",
    "In other words, a uniform distribution represents a situation where every outcome in a given range is equally likely."
   ]
  },
  {
   "cell_type": "code",
   "execution_count": 7,
   "id": "ceba83ae-fd2a-4454-8464-f261614d6f2c",
   "metadata": {},
   "outputs": [
    {
     "name": "stdout",
     "output_type": "stream",
     "text": [
      "Random number form a uniform distribution: 0.3783478274352211\n"
     ]
    }
   ],
   "source": [
    "import random\n",
    "\n",
    "# Getting a random number between 0 and 1 from a uniform distribution\n",
    "random_num = random.uniform(0,1)\n",
    "\n",
    "print(\"Random number form a uniform distribution:\" , random_num)"
   ]
  },
  {
   "cell_type": "code",
   "execution_count": null,
   "id": "eeeaf6a0-277f-4ef7-ab2b-cfb53213caab",
   "metadata": {},
   "outputs": [],
   "source": []
  },
  {
   "cell_type": "markdown",
   "id": "d88f4403-4ba5-40c5-a645-e7053e253e07",
   "metadata": {},
   "source": [
    "# Q18: What is the z score? State the importance of the z score."
   ]
  },
  {
   "cell_type": "markdown",
   "id": "ba209176-22de-420b-853e-b7880e0af6d5",
   "metadata": {},
   "source": [
    "# Ans: 18 \n",
    "\n",
    "\n",
    "The z-score, also known as the standard score, is a statistical measure that represents the number of standard deviations a data point is away from the mean of the dataset. It is a way to standardize and compare individual data points in a distribution.\n",
    "\n",
    "In short, the z-score tells us how many standard deviations a data point is above or below the mean. A positive z-score indicates that the data point is above the mean, while a negative z-score indicates that it is below the mean.\n",
    "\n",
    "The formula to calculate the z-score for a data point \"X\" in a dataset with mean \"μ\" and standard deviation \"σ\" is:\n",
    "\n",
    "**Z = (X - μ) / σ**\n",
    "\n",
    "\n",
    "**The z-score is an essential statistical concept with several important applications:**\n",
    "\n",
    "- **Standardization and Comparison:** Z-scores allow us to standardize data by converting it to a common scale with a mean of 0 and a standard deviation of 1. This standardization enables easy comparison and ranking of data points from different distributions.\n",
    "\n",
    "-**Outlier Detection:** Z-scores help identify outliers in a dataset. Data points with z-scores significantly greater or smaller than zero (typically beyond ±2 or ±3) may indicate unusual observations or extreme values that require further investigation.\n",
    "\n",
    "**Normalization:** In data preprocessing and machine learning, z-scores are used to normalize features, ensuring that each feature has a similar influence on the model, preventing dominance by features with larger scales.\n",
    "\n",
    "**Probability Calculation:** Z-scores are used to calculate probabilities for data points in a normal distribution. By converting observations to z-scores, we can find the probability of a value falling within a specific range from the mean.\n",
    "\n",
    "**Quality Control:** In manufacturing and process control, z-scores are used to monitor and control variations. Data points with z-scores beyond certain thresholds may indicate defects or process issues.\n",
    "\n",
    "**Standard Deviation Identification:** Z-scores can help determine how unusual a data point is in terms of standard deviation. A z-score of 1 represents one standard deviation, while a z-score of 2 represents two standard deviations, and so on.\n",
    "\n",
    "**Population Comparison:** Z-scores are useful in comparing individual data points to the entire population's distribution, providing insights into where a particular observation stands in relation to the entire dataset.\n",
    "\n",
    "**Data Imputation:** Z-scores can be used in imputing missing data points, helping maintain the overall distribution's characteristics.\n",
    "\n",
    "**Grading and Evaluation:** In educational testing and evaluations, z-scores are used to convert raw scores into standardized scores, allowing fair comparisons between different exams and years.\n",
    "\n",
    "**Assumption Checking:** In statistical hypothesis testing, z-scores are used to check assumptions, such as normality assumptions, before applying certain tests.\n"
   ]
  },
  {
   "cell_type": "code",
   "execution_count": null,
   "id": "5270767b-da5d-4cad-b4c6-6184543d4cd7",
   "metadata": {},
   "outputs": [],
   "source": []
  },
  {
   "cell_type": "markdown",
   "id": "5da8fbaa-47e0-405e-b18f-6d06644fdf91",
   "metadata": {},
   "source": [
    "# Q19: What is Central Limit Theorem? State the significance of the Central Limit Theorem."
   ]
  },
  {
   "cell_type": "markdown",
   "id": "2aac0874-f885-4126-9ee0-75f927e28478",
   "metadata": {},
   "source": [
    "# Ans: 19 \n",
    "\n",
    "The Central Limit Theorem (CLT) is a fundamental concept in statistics that describes the behavior of the sample means or sample sums from a large number of independent and identically distributed random variables. It states that as the sample size increases, the sampling distribution of the sample mean or sum approaches a normal distribution, regardless of the shape of the original population distribution.\n",
    "\n",
    "**Key Points of the Central Limit Theorem:**\n",
    "\n",
    "- **Sample Size Matters:** The CLT emphasizes that the larger the sample size, the closer the distribution of the sample mean (or sum) will be to a normal distribution.\n",
    "\n",
    "- **No Assumption on Population Distribution:** The CLT is powerful because it doesn't require any specific assumptions about the underlying population distribution. The original population can be any distribution, and as long as the sample size is sufficiently large, the sample mean will follow a normal distribution.\n",
    "\n",
    "- **Applicability to Various Situations:** The CLT is applicable to a wide range of scenarios, making it a valuable tool in statistics and data analysis. It is especially useful when dealing with practical situations where the true population distribution is unknown or complex.\n",
    "\n",
    "**Significance of the Central Limit Theorem:**\n",
    "\n",
    "- **Inference and Hypothesis Testing:** The CLT enables statisticians to make inferences about population parameters based on sample statistics. It forms the basis for various hypothesis tests, confidence intervals, and p-value calculations.\n",
    "\n",
    "- **Sampling Theory:** The CLT underpins the principles of sampling theory, allowing researchers to draw conclusions about a population based on a representative sample.\n",
    "\n",
    "- **Real-World Data Analysis:** Many real-world data sets are not normally distributed. However, by applying the CLT, statisticians can still use the normal distribution as an approximation to make valid statistical inferences.\n",
    "\n",
    "- **Quality Control:** In manufacturing and quality control processes, the CLT helps assess whether the production process is consistent and within acceptable limits by analyzing sample means.\n",
    "\n",
    "- **Economics and Social Sciences:** The CLT is widely used in economics, social sciences, and market research to draw conclusions about populations from survey data or experimental results.\n",
    "\n",
    "- **Random Sampling:** The CLT provides a theoretical justification for the use of random sampling methods, ensuring that results obtained from samples are representative of the underlying population."
   ]
  },
  {
   "cell_type": "code",
   "execution_count": null,
   "id": "2e84e665-e4f2-4b50-9231-2753e1e50360",
   "metadata": {},
   "outputs": [],
   "source": []
  },
  {
   "cell_type": "markdown",
   "id": "020091e3-70b4-484a-9fe0-1c952a64f385",
   "metadata": {},
   "source": [
    "# Q20: State the assumptions of the Central Limit Theorem."
   ]
  },
  {
   "cell_type": "markdown",
   "id": "4d470779-ccd7-42d5-989f-76e9b2dada31",
   "metadata": {},
   "source": [
    "# Ans: 20 \n",
    "\n",
    "\n",
    "The Central Limit Theorem (CLT) is a powerful statistical concept that allows us to make inferences about a population based on sample data. However, to apply the CLT, certain assumptions must be met. \n",
    "\n",
    "\n",
    "**Here are the key assumptions of the Central Limit Theorem:**\n",
    "\n",
    "- **Independence:** The observations in the sample must be independent of each other. In other words, the value of one observation should not be influenced by the value of another observation in the sample.\n",
    "\n",
    "- **Identically Distributed:** The random variables in the sample should be drawn from the same underlying population distribution. This means that each observation in the sample has the same probability distribution as the others.\n",
    "\n",
    "- **Finite Variance:** The population from which the sample is drawn must have a finite variance (i.e., the variance of the population should not be infinite).\n",
    "\n",
    "- **Sample Size:** The sample size should be sufficiently large. Although there is no strict threshold for what constitutes \"large,\" a common guideline is that the sample size should be greater than 30. However, in some cases, the CLT can still hold for smaller sample sizes, especially when the population distribution is not heavily skewed.\n",
    "\n",
    "It's important to note that while the CLT is robust and often applicable to various situations, it may not hold in some cases if these assumptions are violated. For instance, if the sample size is too small, or the data is not independent and identically distributed, the sampling distribution may not converge to a normal distribution as predicted by the CLT."
   ]
  },
  {
   "cell_type": "code",
   "execution_count": null,
   "id": "6bb15832-67b3-4689-8b83-ee5b8ad97d95",
   "metadata": {},
   "outputs": [],
   "source": []
  },
  {
   "cell_type": "markdown",
   "id": "ea06fc39-97f1-445a-b66f-43c45a4080e7",
   "metadata": {},
   "source": [
    "# Q21: What is Estimation Statistics? Explain point estimate and interval estimate."
   ]
  },
  {
   "cell_type": "markdown",
   "id": "3b632cb9-9b3d-4d1e-9d78-8ac1bb21fa28",
   "metadata": {},
   "source": [
    "# Ans : 21 \n",
    "\n",
    "\n",
    "Estimation in statistics is the process of using sample data to make inferences or predictions about population parameters (e.g., mean, variance) when the entire population is not feasible to measure or observe. \n",
    "\n",
    "**Estimation involves calculating point estimates and interval estimates.**\n",
    "\n",
    "- **Point Estimate:**\n",
    "A point estimate is a single value that serves as the \"best guess\" or approximation of the population parameter. It is derived from sample data and is used to estimate the corresponding parameter in the entire population. Point estimates are often obtained by calculating the sample statistics, such as the sample mean (x̄) or the sample proportion (p), and then using these statistics as estimates for the population mean (μ) or population proportion (P).\n",
    "For example, if you have a sample of 100 students and you want to estimate the average height of all students in a school, you can calculate the sample mean height of the 100 students and use that value as a point estimate for the population mean height.\n",
    "\n",
    "- **Interval Estimate (Confidence Interval):**\n",
    "An interval estimate, also known as a confidence interval, is a range of values within which the true population parameter is likely to lie with a certain level of confidence. Unlike point estimates, interval estimates provide a measure of uncertainty around the estimated parameter.\n",
    "Confidence intervals are constructed based on the point estimate and the variability of the sample data. The confidence level (e.g., 95%, 99%) reflects the percentage of times that the interval estimate will contain the true population parameter if we were to repeat the sampling process many times.\n",
    "\n",
    "For example, a 95% confidence interval for the average height of students might be [160 cm, 165 cm]. \n",
    "This means that we are 95% confident that the true average height of all students in the school falls within this interval.\n",
    "\n",
    "The width of the confidence interval depends on the variability of the sample data and the chosen confidence level. A wider interval indicates higher uncertainty, while a narrower interval suggests more precise estimation."
   ]
  },
  {
   "cell_type": "code",
   "execution_count": null,
   "id": "64c92cfd-9c05-43fc-8f96-090ed5c2d8f8",
   "metadata": {},
   "outputs": [],
   "source": []
  },
  {
   "cell_type": "markdown",
   "id": "bf3e44b8-f7ab-4576-afb0-4a2002568d32",
   "metadata": {},
   "source": [
    "# Q22. Write a Python function to estimate the population mean using a sample mean and standard deviation."
   ]
  },
  {
   "cell_type": "markdown",
   "id": "47f7ae9d-2e4b-4d52-8a4f-0700e5d60385",
   "metadata": {},
   "source": [
    "# Ans: 22 \n",
    "\n",
    "\n",
    "To estimate the population mean using a sample mean and standard deviation, you can use the formula for the sample mean, as the sample mean itself is an unbiased estimator of the population mean. You don't need the sample standard deviation for estimating the population mean, but it can be useful for calculating confidence intervals or standard errors."
   ]
  },
  {
   "cell_type": "code",
   "execution_count": 8,
   "id": "313a5cb0-eba7-4c06-a218-8846e7c28bfe",
   "metadata": {},
   "outputs": [
    {
     "name": "stdout",
     "output_type": "stream",
     "text": [
      "Estimated population mean: 45.8\n"
     ]
    }
   ],
   "source": [
    "def estimate_population_mean(sample_mean, sample_size):\n",
    "    \n",
    "    # Sample mean is an unbiased estimator of the population mean\n",
    "    population_mean = sample_mean\n",
    "    \n",
    "    return population_mean\n",
    "\n",
    "# Example usage:\n",
    "sample_mean = 45.8\n",
    "sample_size = 100\n",
    "estimated_mean = estimate_population_mean(sample_mean, sample_size)\n",
    "print(\"Estimated population mean:\", estimated_mean)"
   ]
  },
  {
   "cell_type": "code",
   "execution_count": null,
   "id": "7558a76d-609f-4a30-ada7-68d558d6df98",
   "metadata": {},
   "outputs": [],
   "source": []
  },
  {
   "cell_type": "markdown",
   "id": "f894ad93-5e69-4e0b-ba2d-f4f4250ee138",
   "metadata": {},
   "source": [
    "# Q23: What is Hypothesis testing? Why is it used? State the importance of Hypothesis testing."
   ]
  },
  {
   "cell_type": "markdown",
   "id": "4050be8f-e379-4ae3-8b3a-a18bf120d84a",
   "metadata": {},
   "source": [
    "# Ans: 23 \n",
    "\n",
    "\n",
    "Hypothesis testing is a statistical method used to make decisions or draw conclusions about a population based on sample data. It involves formulating two competing hypotheses, the null hypothesis (H0) and the alternative hypothesis (Ha), and then using sample data to assess the evidence in favor of one of these hypotheses.\n",
    "\n",
    "**The process of hypothesis testing involves the following steps:**\n",
    "\n",
    "- **Formulating Hypotheses:** The null hypothesis (H0) represents the default or status quo assumption, while the alternative hypothesis (Ha) represents the claim or the effect we are interested in testing.\n",
    "\n",
    "- **Choosing a Test Statistic:** Selecting an appropriate test statistic that summarizes the sample data and can help differentiate between the null and alternative hypotheses.\n",
    "\n",
    "- **Setting a Significance Level:** Determining the level of significance (α) to define the threshold for statistical significance. Commonly used significance levels are 0.05 (5%) or 0.01 (1%).\n",
    "\n",
    "- **Calculating the Test Statistic:** Computing the test statistic using the sample data.\n",
    "\n",
    "- **Determining the Critical Region:** Establishing the critical region or rejection region, which is the range of test statistic values that would lead to the rejection of the null hypothesis.\n",
    "\n",
    "- **Making a Decision:**Comparing the calculated test statistic with the critical values. If the test statistic falls within the critical region, we reject the null hypothesis in favor of the alternative hypothesis. Otherwise, we fail to reject the null hypothesis.\n",
    "\n",
    ".\n",
    "\n",
    "**Importance of Hypothesis Testing:**\n",
    "\n",
    "- **Inference from Sample Data:** Hypothesis testing allows us to draw conclusions about population parameters based on sample data. It helps make informed decisions in the face of uncertainty.\n",
    "\n",
    "- **Scientific Research:** Hypothesis testing is an essential tool in scientific research. Researchers use it to test hypotheses and validate their findings, ensuring that the observed results are not due to random chance.\n",
    "\n",
    "- **Quality Control:** In manufacturing and industrial processes, hypothesis testing is used to ensure the quality and consistency of products by evaluating sample data against specified standards.\n",
    "\n",
    "- **Medical Studies:** In medical research, hypothesis testing is used to assess the effectiveness of treatments and compare the outcomes of different groups in clinical trials.\n",
    "\n",
    "- -**Business Decisions:** In business and marketing, hypothesis testing helps evaluate the impact of changes or interventions, such as advertising campaigns or product modifications.\n",
    "\n",
    "- **Statistical Significance:** Hypothesis testing provides a framework for determining whether observed differences or relationships in data are statistically significant or merely due to random variation.\n",
    "\n",
    "- **Legal and Regulatory Compliance:** In legal contexts, hypothesis testing can be used to analyze evidence and make legal decisions.\n"
   ]
  },
  {
   "cell_type": "code",
   "execution_count": null,
   "id": "0fcd6589-73f9-4866-b62e-b53c74a07090",
   "metadata": {},
   "outputs": [],
   "source": []
  },
  {
   "cell_type": "markdown",
   "id": "8f60304d-990d-495e-8f95-14de282f99a7",
   "metadata": {},
   "source": [
    "# Q24. Create a hypothesis that states whether the average weight of male college students is greater than the average weight of female college students."
   ]
  },
  {
   "cell_type": "markdown",
   "id": "4f6b4460-d5b6-4948-8ba4-882897c8d80a",
   "metadata": {},
   "source": [
    "# Ans: 24 \n",
    "\n",
    "**Null Hypothesis (H0):** The average weight of male college students is equal to or less than the average weight of female college students.\n",
    "\n",
    "**Alternative Hypothesis (Ha):** The average weight of male college students is greater than the average weight of female college students.\n",
    "\n",
    "In symbols:\n",
    "\n",
    "H0: μ_male ≤ μ_female\n",
    "Ha: μ_male > μ_female\n",
    "\n",
    "where:\n",
    "\n",
    "H0 represents the null hypothesis.\n",
    "\n",
    "Ha represents the alternative hypothesis.\n",
    "\n",
    "μ_male represents the population mean weight of male college students.\n",
    "\n",
    "μ_female represents the population mean weight of female college students.\n",
    "\n",
    "\n",
    "This hypothesis tests whether there is evidence to suggest that, on average, male college students weigh more than female college students. The hypothesis will be tested using sample data to draw conclusions about the entire population of male and female college students."
   ]
  },
  {
   "cell_type": "code",
   "execution_count": null,
   "id": "053562a7-bd94-49bf-b166-4d9e9384ccf4",
   "metadata": {},
   "outputs": [],
   "source": []
  },
  {
   "cell_type": "markdown",
   "id": "fa412b88-2061-4423-8166-5c7d012214c2",
   "metadata": {},
   "source": [
    "# Q25. Write a Python script to conduct a hypothesis test on the difference between two population means, given a sample from each population."
   ]
  },
  {
   "cell_type": "code",
   "execution_count": 9,
   "id": "9b23a1ad-9ecc-41ad-9d9b-4e0b43be5695",
   "metadata": {},
   "outputs": [
    {
     "name": "stdout",
     "output_type": "stream",
     "text": [
      "T-statistic: 3.1608267412297972\n",
      "P-value: 0.013378286315010035\n",
      "Conclusion: Reject the null hypothesis\n"
     ]
    }
   ],
   "source": [
    "# Ans: 25\n",
    "\n",
    "import numpy as np\n",
    "import scipy.stats as stats\n",
    "\n",
    "def two_sample_t_test(sample1, sample2, alpha=0.05):\n",
    "    # Calculate the sample means and standard deviations\n",
    "    mean1, mean2 = np.mean(sample1), np.mean(sample2)\n",
    "    std1, std2 = np.std(sample1, ddof=1), np.std(sample2, ddof=1)\n",
    "    \n",
    "    # Calculate the degrees of freedom\n",
    "    n1, n2 = len(sample1), len(sample2)\n",
    "    dof = n1 + n2 - 2\n",
    "    \n",
    "    # Calculate the t-statistic\n",
    "    numerator = mean1 - mean2\n",
    "    denominator = np.sqrt((std1**2 / n1) + (std2**2 / n2))\n",
    "    t_statistic = numerator / denominator\n",
    "    \n",
    "    # Calculate the critical t-value for a two-tailed test (alpha/2)\n",
    "    critical_t = stats.t.ppf(1 - alpha/2, dof)\n",
    "    \n",
    "    # Calculate the p-value for a two-tailed test\n",
    "    p_value = 2 * (1 - stats.t.cdf(abs(t_statistic), dof))\n",
    "    \n",
    "    # Conduct the hypothesis test\n",
    "    if abs(t_statistic) > critical_t:\n",
    "        conclusion = \"Reject the null hypothesis\"\n",
    "    else:\n",
    "        conclusion = \"Fail to reject the null hypothesis\"\n",
    "    \n",
    "    return t_statistic, p_value, conclusion\n",
    "\n",
    "# Example usage:\n",
    "sample1 = [65, 68, 70, 63, 72]\n",
    "sample2 = [57, 62, 60, 65, 61]\n",
    "alpha = 0.05\n",
    "\n",
    "t_stat, p_val, result = two_sample_t_test(sample1, sample2, alpha)\n",
    "\n",
    "print(\"T-statistic:\", t_stat)\n",
    "print(\"P-value:\", p_val)\n",
    "print(\"Conclusion:\", result)"
   ]
  },
  {
   "cell_type": "code",
   "execution_count": null,
   "id": "93de6168-e2a0-4d13-b347-7fd6b962ec76",
   "metadata": {},
   "outputs": [],
   "source": []
  },
  {
   "cell_type": "markdown",
   "id": "1f1a025c-653a-4d2f-aa59-3e1642ae5243",
   "metadata": {},
   "source": [
    "# Q26: What is a null and alternative hypothesis? Give some examples."
   ]
  },
  {
   "cell_type": "markdown",
   "id": "8f42e2bd-033b-4014-8fcf-04ab363993aa",
   "metadata": {},
   "source": [
    "# Ans: 26\n",
    "\n",
    "\n",
    "The null hypothesis (H0) and alternative hypothesis (Ha) are two complementary statements used in hypothesis testing to assess the validity of a claim or make inferences about a population based on sample data.\n",
    "\n",
    "**Null Hypothesis (H0):**\n",
    "The null hypothesis is the default assumption or status quo. It represents the idea that there is no significant difference, effect, or relationship in the population. In other words, it assumes that any observed differences or patterns in the sample data are due to random chance or sampling variability.\n",
    "\n",
    "\n",
    "Examples of null hypotheses:\n",
    "\n",
    "- H0: The mean height of male college students is equal to the mean height of female college students.\n",
    "- H0: There is no difference in test scores between two teaching methods.\n",
    "- H0: The proportion of defective products produced by Machine A is equal to the proportion produced by Machine B.\n",
    "\n",
    "\n",
    "**Alternative Hypothesis (Ha):**\n",
    "\n",
    "The alternative hypothesis is the claim or effect that we are interested in testing. It is the statement that contradicts the null hypothesis and suggests that there is a significant difference, effect, or relationship in the population.\n",
    "Examples of alternative hypotheses:\n",
    "\n",
    "- Ha: The mean height of male college students is greater than the mean height of female college students.\n",
    "- Ha: There is a difference in test scores between two teaching methods.\n",
    "- Ha: The proportion of defective products produced by Machine A is different from the proportion produced by Machine B.\n",
    "\n",
    "In hypothesis testing, we collect sample data and use statistical methods to assess the evidence in favor of either the null hypothesis or the alternative hypothesis. The goal is to determine whether there is enough evidence to reject the null hypothesis in favor of the alternative hypothesis, indicating that the observed difference or effect is not due to random chance but likely represents a true effect in the population."
   ]
  },
  {
   "cell_type": "code",
   "execution_count": null,
   "id": "74cdea88-01d3-4aa4-81bb-a8236e035f7a",
   "metadata": {},
   "outputs": [],
   "source": []
  },
  {
   "cell_type": "markdown",
   "id": "3959f82a-8796-4fd1-812b-960cbc05caeb",
   "metadata": {},
   "source": [
    "# Q27: Write down the steps involved in hypothesis testing."
   ]
  },
  {
   "cell_type": "markdown",
   "id": "3f233eaa-98b8-477b-8632-e3bd9d12250e",
   "metadata": {},
   "source": [
    "# Ans: 27 \n",
    "\n",
    "\n",
    "Hypothesis testing is a structured process used to make decisions about population parameters based on sample data. \n",
    "\n",
    "**The steps involved in hypothesis testing are as follows:**\n",
    "\n",
    "- **State the Hypotheses:**\n",
    "Clearly define the null hypothesis (H0) and the alternative hypothesis (Ha). The null hypothesis represents the default assumption, while the alternative hypothesis represents the claim or effect we want to test.\n",
    "\n",
    "- **Choose the Test Statistic:**\n",
    "Select an appropriate test statistic that summarizes the sample data and can help differentiate between the null and alternative hypotheses. The choice of test statistic depends on the type of data and the specific hypothesis being tested.\n",
    "\n",
    "- **Set the Significance Level (Alpha):**\n",
    "Determine the significance level (α), which represents the probability of making a Type I error (rejecting the null hypothesis when it is true). Commonly used significance levels are 0.05 (5%) or 0.01 (1%), but it can vary based on the context and desired level of confidence.\n",
    "\n",
    "- **Calculate the Test Statistic:**\n",
    "Compute the test statistic using the sample data. This involves plugging the sample data into the chosen test statistic formula.\n",
    "\n",
    "- **Determine the Critical Region (Rejection Region):**\n",
    "Establish the critical region or rejection region, which is the range of test statistic values that would lead to the rejection of the null hypothesis. The critical region is determined based on the significance level and the specific test being performed.\n",
    "\n",
    "- **Calculate the P-Value:**\n",
    "Alternatively or additionally, calculate the p-value, which is the probability of obtaining a test statistic as extreme as the one observed, assuming the null hypothesis is true. The p-value helps assess the strength of the evidence against the null hypothesis.\n",
    "\n",
    "- **Make a Decision:**\n",
    "Compare the calculated test statistic (or p-value) with the critical values or the significance level. If the test statistic falls within the critical region or the p-value is less than the significance level, reject the null hypothesis in favor of the alternative hypothesis. Otherwise, fail to reject the null hypothesis.\n",
    "\n",
    "- **Draw Conclusions:**\n",
    "Based on the decision made in the previous step, draw conclusions about the population parameter. State whether there is enough evidence to support the alternative hypothesis or not.\n",
    "\n",
    "- **Interpretation:**\n",
    "Interpret the results of the hypothesis test in the context of the problem. Explain the implications of the findings and discuss their practical significance."
   ]
  },
  {
   "cell_type": "code",
   "execution_count": null,
   "id": "0e92d0b3-2234-4e09-99b8-814c1fa86adc",
   "metadata": {},
   "outputs": [],
   "source": []
  },
  {
   "cell_type": "markdown",
   "id": "d6c2dc1f-bc39-47a0-862b-1104faebba08",
   "metadata": {},
   "source": [
    "# Q28. Define p-value and explain its significance in hypothesis testing."
   ]
  },
  {
   "cell_type": "markdown",
   "id": "47e0b3c4-1ac7-4f66-9579-5efeb6e43f09",
   "metadata": {},
   "source": [
    "# Ans:  28\n",
    "\n",
    "\n",
    "\n",
    "The p-value, short for \"probability value,\" is a crucial concept in hypothesis testing. It quantifies the strength of the evidence against the null hypothesis (H0) and provides a way to assess the statistical significance of the results obtained from a hypothesis test.\n",
    "\n",
    "In hypothesis testing, after calculating the test statistic (e.g., t-statistic, z-score) from the sample data, we compare it with the critical values or use it to calculate the p-value. The p-value represents the probability of obtaining a test statistic as extreme as the one observed, assuming that the null hypothesis is true.\n",
    "It's important to note that the p-value alone does not prove the truth or falsity of the null hypothesis. It only provides evidence against or in favor of the null hypothesis based on the observed data. Additionally, the p-value does not provide information about the effect size or the practical significance of the results; it solely deals with the statistical significance.\n",
    "\n",
    "\n",
    "**Significance of the p-value in Hypothesis Testing:**\n",
    "\n",
    "- **Interpretation of Results:** A small p-value (typically less than the chosen significance level, α) suggests that the observed sample data is highly unlikely to occur under the assumption of the null hypothesis. It indicates strong evidence against the null hypothesis, favoring the alternative hypothesis (Ha).\n",
    "\n",
    "- **Decision Rule:** The p-value can be used to make decisions in hypothesis testing. If the p-value is less than or equal to the significance level (α), we reject the null hypothesis in favor of the alternative hypothesis. Conversely, if the p-value is greater than α, we fail to reject the null hypothesis.\n",
    "\n",
    "- **Objective Measure:** The p-value provides an objective measure of the strength of evidence against the null hypothesis. It allows researchers and analysts to quantify the significance of their findings in statistical terms.\n",
    "\n",
    "- **Comparing Studies:** The p-value allows for comparisons between different studies or experiments. Researchers can assess the level of evidence against the null hypothesis across various studies by comparing their respective p-values.\n",
    "\n",
    "- **Adjusting Significance Level:** The p-value provides flexibility in setting the significance level (α) based on the desired level of confidence or the context of the problem. For example, if a higher level of confidence is required, a lower significance level (e.g., α = 0.01) can be chosen."
   ]
  },
  {
   "cell_type": "code",
   "execution_count": null,
   "id": "24e9f8e6-f9a5-4d77-828d-8500cf1ed753",
   "metadata": {},
   "outputs": [],
   "source": []
  },
  {
   "cell_type": "markdown",
   "id": "b3358d2e-0d4d-4c84-9558-27d9b400b99c",
   "metadata": {},
   "source": [
    "# Q29. Generate a Student's t-distribution plot using Python's matplotlib library, with the degrees of freedom parameter set to 10."
   ]
  },
  {
   "cell_type": "markdown",
   "id": "94fa4caa-6dc0-451c-b97b-0cd7dbc322bb",
   "metadata": {},
   "source": [
    "# Ans: 29\n",
    "\n",
    "To generate a Student's t-distribution plot with degrees of freedom (df) set to 10 using Python's matplotlib library, you can use the scipy.stats.t module to calculate the probability density function (PDF) and then plot the distribution."
   ]
  },
  {
   "cell_type": "code",
   "execution_count": 10,
   "id": "6df68cb3-0c4e-480f-bf16-cef4a8f81ba7",
   "metadata": {},
   "outputs": [
    {
     "data": {
      "image/png": "[encoded data removed]",
      "text/plain": [
       "<Figure size 640x480 with 1 Axes>"
      ]
     },
     "metadata": {},
     "output_type": "display_data"
    }
   ],
   "source": [
    "import numpy as np \n",
    "import matplotlib.pyplot as plt \n",
    "import scipy.stats as stats\n",
    "\n",
    "# Degree of freedom \n",
    "df = 10 \n",
    "\n",
    "# Generate data points for x-axis\n",
    "x = np.linspace(-5,5,500)\n",
    "\n",
    "# calculate the probability density fucntion for student's t distribution\n",
    "pdf = stats.t.pdf(x, df)\n",
    "\n",
    "# Plot the Student's t-distribution\n",
    "plt.plot(x, pdf, label=f\"t-distribution (df = {df})\")\n",
    "plt.xlabel('x')\n",
    "plt.ylabel('Probability Density')\n",
    "plt.title('Student\\'s t-distribution')\n",
    "plt.legend()\n",
    "plt.grid(True)\n",
    "plt.show()"
   ]
  },
  {
   "cell_type": "code",
   "execution_count": null,
   "id": "d8540784-bb73-46d3-bb12-eb398eb2d7b1",
   "metadata": {},
   "outputs": [],
   "source": []
  },
  {
   "cell_type": "markdown",
   "id": "86f5ec38-fd16-4bec-b6f8-663934f9554f",
   "metadata": {},
   "source": [
    "# Q30. Write a Python program to calculate the two-sample t-test for independent samples, given two random samples of equal size and a null hypothesis that the population means are equal."
   ]
  },
  {
   "cell_type": "code",
   "execution_count": 11,
   "id": "b86489b9-e96c-4058-9eab-a997b5e4901a",
   "metadata": {},
   "outputs": [
    {
     "name": "stdout",
     "output_type": "stream",
     "text": [
      "Two-Sample T-Test Results:\n",
      "Sample 1 mean: 9.54905218948772\n",
      "Sample 2 mean: 12.035561740935904\n",
      "T-statistic: -6.872731683285841\n",
      "P-value: 5.877565294167719e-10\n",
      "Reject the null hypothesis. There is significant evidence that the population means are different.\n"
     ]
    }
   ],
   "source": [
    "# Ans: 30 \n",
    "\n",
    "\n",
    "def two_sample_t_test(sample1, sample2):\n",
    "    \n",
    "    # Perform two-sample t-test\n",
    "    t_statistic, p_value = stats.ttest_ind(sample1, sample2)\n",
    "    \n",
    "    return t_statistic, p_value\n",
    "\n",
    "# Example usage:\n",
    "\n",
    "# Generate two random samples of equal size (n) from normal distributions\n",
    "n = 50\n",
    "np.random.seed(42)\n",
    "sample1 = np.random.normal(loc=10, scale=2, size=n)\n",
    "sample2 = np.random.normal(loc=12, scale=2, size=n)\n",
    "\n",
    "# Perform the two-sample t-test\n",
    "t_stat, p_val = two_sample_t_test(sample1, sample2)\n",
    "\n",
    "# Print the results\n",
    "print(\"Two-Sample T-Test Results:\")\n",
    "print(\"Sample 1 mean:\", np.mean(sample1))\n",
    "print(\"Sample 2 mean:\", np.mean(sample2))\n",
    "print(\"T-statistic:\", t_stat)\n",
    "print(\"P-value:\", p_val)\n",
    "\n",
    "# Interpretation of the results\n",
    "alpha = 0.05\n",
    "if p_val < alpha:\n",
    "    print(\"Reject the null hypothesis. There is significant evidence that the population means are different.\")\n",
    "else:\n",
    "    print(\"Fail to reject the null hypothesis. There is no significant evidence that the population means are different.\")"
   ]
  },
  {
   "cell_type": "code",
   "execution_count": null,
   "id": "2a1f650a-b7c9-4100-9bd2-13e3ca8e9374",
   "metadata": {},
   "outputs": [],
   "source": []
  },
  {
   "cell_type": "markdown",
   "id": "f289779c-7bb3-4468-946c-54b74c820cdd",
   "metadata": {},
   "source": [
    "# Q31: What is Student’s t distribution? When to use the t-Distribution."
   ]
  },
  {
   "cell_type": "markdown",
   "id": "f4e95244-d596-41cb-96ba-ab6daf3d9470",
   "metadata": {},
   "source": [
    "# Ans: 31\n",
    "\n",
    "\n",
    "Student's t-distribution, often referred to simply as the t-distribution, is a probability distribution that is used in hypothesis testing, confidence interval estimation, and statistical inference when the sample size is small and the population standard deviation is unknown.\n",
    "\n",
    "The t-distribution is similar to the standard normal distribution (Z-distribution), but it has heavier tails. The shape of the t-distribution depends on the degrees of freedom (df). As the degrees of freedom increase, the t-distribution approaches the standard normal distribution.\n",
    "\n",
    "**When to use the t-Distribution:**\n",
    "\n",
    "- **Small Sample Size:** The t-distribution is specifically appropriate when dealing with small sample sizes, typically when the sample size is less than 30. For larger sample sizes (e.g., greater than 30), the t-distribution closely approximates the standard normal distribution, and Z-tests can be used instead.\n",
    "\n",
    "- **Unknown Population Standard Deviation:** In many real-world scenarios, the population standard deviation is unknown. When this is the case, the t-distribution is used to estimate population parameters based on the sample data.\n",
    "\n",
    "- **Confidence Interval Estimation:** When calculating confidence intervals for population parameters (e.g., population mean), and the sample size is small or the population standard deviation is unknown, the t-distribution is employed.\n",
    "\n",
    "- **Hypothesis Testing:** In hypothesis testing involving small sample sizes, the t-distribution is used when the population standard deviation is unknown. For example, when comparing the means of two groups with small sample sizes, the t-test for independent samples or paired samples may be used.\n",
    "\n",
    "- **Data with Outliers:** The t-distribution is known to be more robust to outliers compared to the standard normal distribution. Hence, when dealing with data that may contain outliers, the t-distribution can provide more reliable results.\n"
   ]
  },
  {
   "cell_type": "code",
   "execution_count": null,
   "id": "f943f23c-a5e4-44c3-97ba-8a286fe57dc7",
   "metadata": {},
   "outputs": [],
   "source": []
  },
  {
   "cell_type": "markdown",
   "id": "e7d132ca-3db5-4032-86fd-3ea8346284e9",
   "metadata": {},
   "source": [
    "# Q32: What is t-statistic? State the formula for t-statistic."
   ]
  },
  {
   "cell_type": "markdown",
   "id": "c5663fb4-3107-43ce-96b0-0bee276e61d6",
   "metadata": {},
   "source": [
    "# Ans: 32\n",
    "\n",
    "\n",
    "\n",
    "The t-statistic is a statistical measure that quantifies the difference between the sample mean and the hypothesized population mean in units of the standard error. It is commonly used in hypothesis testing to assess whether the observed difference between a sample and the population is statistically significant.\n",
    "\n",
    "The formula for the t-statistic is:\n",
    "\n",
    "**t = (x̄ - μ) / (s / √n)**\n",
    "\n",
    "where:\n",
    "\n",
    "t is the t-statistic.\n",
    "x̄ is the sample mean.\n",
    "μ is the hypothesized population mean (usually given in the null hypothesis).\n",
    "s is the sample standard deviation.\n",
    "n is the sample size.\n",
    "The t-statistic measures how many standard errors the sample mean deviates from the hypothesized population mean. If the t-statistic is large, it indicates that the sample mean differs significantly from the population mean, which can lead to the rejection of the null hypothesis in favor of the alternative hypothesis.\n",
    "\n",
    "When conducting a one-sample t-test, you use the t-statistic to calculate the p-value, which helps determine the statistical significance of the results and whether to reject or fail to reject the null hypothesis. In a two-sample t-test, the t-statistic is used to assess the difference between the means of two independent samples.\n",
    "\n",
    "It's important to note that the t-statistic follows a t-distribution, which depends on the degrees of freedom (df). The degrees of freedom are equal to the sample size minus one (df = n - 1) for one-sample t-tests and (df = n1 + n2 - 2) for two-sample t-tests with samples of sizes n1 and n2. The t-distribution accounts for the increased uncertainty associated with estimating the population standard deviation from the sample standard deviation when the sample size is small. As the sample size increases, the t-distribution approaches the standard normal distribution (Z-distribution)."
   ]
  },
  {
   "cell_type": "code",
   "execution_count": null,
   "id": "38ca8dbb-19d2-4895-a105-68e572bc06af",
   "metadata": {},
   "outputs": [],
   "source": []
  },
  {
   "cell_type": "markdown",
   "id": "a8711c41-3b7b-4e82-bf1c-565763790646",
   "metadata": {},
   "source": [
    "# Q33. A coffee shop owner wants to estimate the average daily revenue for their shop. They take a random sample of 50 days and find the sample mean revenue to be 500 dollers with a standard deviation of 50 dollers. Estimate the population mean revenue with a 95% confidence interval."
   ]
  },
  {
   "cell_type": "markdown",
   "id": "8351633c-37e4-40e2-b055-93337fa749b0",
   "metadata": {},
   "source": [
    "# Ans: 33\n",
    "\n",
    "\n",
    "To estimate the population mean revenue with a 95% confidence interval, we can use the formula for a confidence interval for the mean when the population standard deviation is unknown. Since the sample size is relatively large (n = 50), we can use the t-distribution to calculate the confidence interval.\n",
    "\n",
    "The formula for the confidence interval for the population mean (μ) is:\n",
    "\n",
    "Confidence Interval = **x̄ ± (t * (s / √n))**\n",
    "\n",
    "\n",
    "\n",
    "\n",
    "Let's calculate the confidence interval in Python:"
   ]
  },
  {
   "cell_type": "code",
   "execution_count": 12,
   "id": "7944b0e0-c706-44d5-8e28-bc910625b471",
   "metadata": {},
   "outputs": [
    {
     "name": "stdout",
     "output_type": "stream",
     "text": [
      "95% Confidence Interval for Population Mean Revenue:\n",
      "Lower bound: 485.79015724388137\n",
      "Upper bound: 514.2098427561186\n"
     ]
    }
   ],
   "source": [
    "# Given sample statistics\n",
    "sample_mean = 500\n",
    "sample_std = 50\n",
    "sample_size = 50\n",
    "\n",
    "# Calculate the critical value (t) for a 95% confidence level\n",
    "confidence_level = 0.95\n",
    "degrees_of_freedom = sample_size - 1\n",
    "t_critical = stats.t.ppf(confidence_level + (1 - confidence_level) / 2, df=degrees_of_freedom)\n",
    "\n",
    "# Calculate the margin of error\n",
    "margin_of_error = t_critical * (sample_std / (sample_size ** 0.5))\n",
    "\n",
    "# Calculate the confidence interval\n",
    "confidence_interval = (sample_mean - margin_of_error, sample_mean + margin_of_error)\n",
    "\n",
    "print(\"95% Confidence Interval for Population Mean Revenue:\")\n",
    "print(\"Lower bound:\", confidence_interval[0])\n",
    "print(\"Upper bound:\", confidence_interval[1])"
   ]
  },
  {
   "cell_type": "code",
   "execution_count": null,
   "id": "24330cc9-b1da-42dc-8ee0-750f7e936ed8",
   "metadata": {},
   "outputs": [],
   "source": []
  },
  {
   "cell_type": "markdown",
   "id": "eb6b8f34-d5d3-44fa-b9c9-15847831b379",
   "metadata": {},
   "source": [
    "# Q34. A researcher hypothesizes that a new drug will decrease blood pressure by 10 mmHg. They conduct a clinical trial with 100 patients and find that the sample mean decrease in blood pressure is 8 mmHg with a standard deviation of 3 mmHg. Test the hypothesis with a significance level of 0.05."
   ]
  },
  {
   "cell_type": "markdown",
   "id": "245fb988-943b-4b44-8cd8-eb351d57f510",
   "metadata": {},
   "source": [
    "# Ans: 34\n",
    "\n",
    "\n",
    "To test the hypothesis that the new drug decreases blood pressure by 10 mmHg, we can use a one-sample t-test. The null hypothesis (H0) is that the drug does not decrease blood pressure by 10 mmHg, and the alternative hypothesis (Ha) is that the drug does decrease blood pressure by 10 mmHg.\n",
    "\n",
    "\n",
    "We can use the t-test formula to calculate the t-statistic:\n",
    "\n",
    "**t = (x̄ - μ) / (s / √n)**"
   ]
  },
  {
   "cell_type": "code",
   "execution_count": 13,
   "id": "413e6045-6969-4ef9-aa5b-36eaf2089b09",
   "metadata": {},
   "outputs": [
    {
     "name": "stdout",
     "output_type": "stream",
     "text": [
      "T-statistic: -6.666666666666667\n",
      "Critical t-value: 1.9842169515086827\n",
      "Conclusion: Reject the null hypothesis. The drug significantly decreases blood pressure.\n"
     ]
    }
   ],
   "source": [
    "# Given sample statistics\n",
    "sample_mean = 8\n",
    "sample_std = 3\n",
    "sample_size = 100\n",
    "null_mean = 10  # Hypothesized population mean under the null hypothesis\n",
    "\n",
    "# Calculate the t-statistic\n",
    "t_statistic = (sample_mean - null_mean) / (sample_std / np.sqrt(sample_size))\n",
    "\n",
    "# Degrees of freedom (n-1)\n",
    "degrees_of_freedom = sample_size - 1\n",
    "\n",
    "# Calculate the critical t-value for a two-tailed test (alpha/2 = 0.05/2 = 0.025)\n",
    "alpha = 0.05\n",
    "t_critical = stats.t.ppf(1 - alpha / 2, df=degrees_of_freedom)\n",
    "\n",
    "# Compare the t-statistic with the critical t-value\n",
    "if abs(t_statistic) > t_critical:\n",
    "    conclusion = \"Reject the null hypothesis. The drug significantly decreases blood pressure.\"\n",
    "else:\n",
    "    conclusion = \"Fail to reject the null hypothesis. There is not enough evidence to suggest a significant decrease in blood pressure.\"\n",
    "\n",
    "# Print the results\n",
    "print(\"T-statistic:\", t_statistic)\n",
    "print(\"Critical t-value:\", t_critical)\n",
    "print(\"Conclusion:\", conclusion)"
   ]
  },
  {
   "cell_type": "code",
   "execution_count": null,
   "id": "549d3cd2-199f-4545-86b9-4564180abce0",
   "metadata": {},
   "outputs": [],
   "source": []
  },
  {
   "cell_type": "markdown",
   "id": "e691b42f-dbd3-4861-894d-ca91f9291f99",
   "metadata": {},
   "source": [
    "# Q35. An electronics company produces a certain type of product with a mean weight of 5 pounds and a standard deviation of 0.5 pounds. A random sample of 25 products is taken, and the sample mean weight is found to be 4.8 pounds. Test the hypothesis that the true mean weight of the products is less than 5 pounds with a significance level of 0.01."
   ]
  },
  {
   "cell_type": "markdown",
   "id": "97cf2955-cd43-40de-8c0b-9895e383e625",
   "metadata": {},
   "source": [
    "# Ans: 35 \n",
    "\n",
    "\n",
    "\n",
    "To test the hypothesis that the true mean weight of the products is less than 5 pounds, we can use a one-sample t-test with a one-tailed test. The null hypothesis (H0) is that the true mean weight is equal to or greater than 5 pounds, and the alternative hypothesis (Ha) is that the true mean weight is less than 5 pounds.\n",
    "\n",
    "\n",
    "We can use the t-test formula to calculate the t-statistic:\n",
    "    \n",
    "**t = (x̄ - μ) / (σ / √n)**\n"
   ]
  },
  {
   "cell_type": "code",
   "execution_count": 14,
   "id": "78b5e6fd-168d-42bf-acfe-483de853d7d8",
   "metadata": {},
   "outputs": [
    {
     "name": "stdout",
     "output_type": "stream",
     "text": [
      "T-statistic: -2.0000000000000018\n",
      "Critical t-value: -2.4921594731575762\n",
      "Conclusion: Fail to reject the null hypothesis. There is not enough evidence to suggest that the true mean weight is less than 5 pounds.\n"
     ]
    }
   ],
   "source": [
    "# Given sample statistics\n",
    "sample_mean = 4.8\n",
    "population_std = 0.5\n",
    "sample_size = 25\n",
    "null_mean = 5  # Hypothesized population mean under the null hypothesis\n",
    "\n",
    "# Calculate the standard error of the sample mean\n",
    "standard_error = population_std / np.sqrt(sample_size)\n",
    "\n",
    "# Calculate the t-statistic\n",
    "t_statistic = (sample_mean - null_mean) / standard_error\n",
    "\n",
    "# Degrees of freedom (n-1)\n",
    "degrees_of_freedom = sample_size - 1\n",
    "\n",
    "# Calculate the critical t-value for a one-tailed test at alpha = 0.01\n",
    "alpha = 0.01\n",
    "t_critical = stats.t.ppf(alpha, df=degrees_of_freedom)\n",
    "\n",
    "# Compare the t-statistic with the critical t-value\n",
    "if t_statistic < t_critical:\n",
    "    conclusion = \"Reject the null hypothesis. The true mean weight is less than 5 pounds.\"\n",
    "else:\n",
    "    conclusion = \"Fail to reject the null hypothesis. There is not enough evidence to suggest that the true mean weight is less than 5 pounds.\"\n",
    "\n",
    "# Print the results\n",
    "print(\"T-statistic:\", t_statistic)\n",
    "print(\"Critical t-value:\", t_critical)\n",
    "print(\"Conclusion:\", conclusion)"
   ]
  },
  {
   "cell_type": "code",
   "execution_count": null,
   "id": "d25c9b87-2ccc-463c-b559-4b968a2e7b1d",
   "metadata": {},
   "outputs": [],
   "source": []
  },
  {
   "cell_type": "markdown",
   "id": "6bb5284f-6181-4fe2-9331-1aeecb69e4a3",
   "metadata": {},
   "source": [
    "# Q36. Two groups of students are given different study materials to prepare for a test. The first group (n1 = 30) has a mean score of 80 with a standard deviation of 10, and the second group (n2 = 40) has a mean score of 75 with a standard deviation of 8. Test the hypothesis that the population means for the two groups are equal with a significance level of 0.01."
   ]
  },
  {
   "cell_type": "markdown",
   "id": "3b356bf1-44f1-4003-9d5a-c041decc6364",
   "metadata": {},
   "source": [
    "# Ans: 36\n",
    "\n",
    "\n",
    "\n",
    "To test the hypothesis that the population means for the two groups are equal, we can use a two-sample t-test for independent samples. The null hypothesis (H0) is that the population means are equal, and the alternative hypothesis (Ha) is that the population means are not equal.\n",
    "\n",
    "Given:\n",
    "\n",
    "- Sample size of the first group (n1) = 30\n",
    "- Sample mean of the first group (x̄1) = 80\n",
    "- Sample standard deviation of the first group (s1) = 10\n",
    "- Sample size of the second group (n2) = 40\n",
    "- Sample mean of the second group (x̄2) = 75\n",
    "- Sample standard deviation of the second group (s2) = 8\n",
    "\n",
    "\n",
    "\n",
    "We can use the two-sample t-test formula to calculate the t-statistic:\n",
    "\n",
    "**t = (x̄1 - x̄2) / √((s1^2 / n1) + (s2^2 / n2))**"
   ]
  },
  {
   "cell_type": "code",
   "execution_count": 15,
   "id": "398a541b-3841-4b7d-93f4-9c20224e366f",
   "metadata": {},
   "outputs": [
    {
     "name": "stdout",
     "output_type": "stream",
     "text": [
      "T-statistic: 2.2511258444537408\n",
      "Critical t-value: 2.6500812928169553\n",
      "Conclusion: Fail to reject the null hypothesis. There is not enough evidence to suggest that the population means are different.\n"
     ]
    }
   ],
   "source": [
    "# Given sample statistics for Group 1\n",
    "sample_mean1 = 80\n",
    "sample_std1 = 10\n",
    "sample_size1 = 30\n",
    "\n",
    "# Given sample statistics for Group 2\n",
    "sample_mean2 = 75\n",
    "sample_std2 = 8\n",
    "sample_size2 = 40\n",
    "\n",
    "# Calculate the pooled standard error\n",
    "pooled_std_error = np.sqrt((sample_std1**2 / sample_size1) + (sample_std2**2 / sample_size2))\n",
    "\n",
    "# Calculate the t-statistic\n",
    "t_statistic = (sample_mean1 - sample_mean2) / pooled_std_error\n",
    "\n",
    "# Degrees of freedom (n1 + n2 - 2)\n",
    "degrees_of_freedom = sample_size1 + sample_size2 - 2\n",
    "\n",
    "# Calculate the critical t-value for a two-tailed test at alpha = 0.01\n",
    "alpha = 0.01\n",
    "t_critical = stats.t.ppf(1 - alpha / 2, df=degrees_of_freedom)\n",
    "\n",
    "# Compare the t-statistic with the critical t-value\n",
    "if abs(t_statistic) > t_critical:\n",
    "    conclusion = \"Reject the null hypothesis. The population means are not equal.\"\n",
    "else:\n",
    "    conclusion = \"Fail to reject the null hypothesis. There is not enough evidence to suggest that the population means are different.\"\n",
    "\n",
    "# Print the results\n",
    "print(\"T-statistic:\", t_statistic)\n",
    "print(\"Critical t-value:\", t_critical)\n",
    "print(\"Conclusion:\", conclusion)"
   ]
  },
  {
   "cell_type": "code",
   "execution_count": null,
   "id": "ab61a97e-bd44-4365-a9f1-3b60154655bd",
   "metadata": {},
   "outputs": [],
   "source": []
  },
  {
   "cell_type": "markdown",
   "id": "e4f4a1e1-3268-46ee-b7d0-fbdd9f719841",
   "metadata": {},
   "source": [
    "# Q37. A marketing company wants to estimate the average number of ads watched by viewers during a TV program. They take a random sample of 50 viewers and find that the sample mean is 4 with a standard deviation of 1.5. Estimate the population mean with a 99% confidence interval."
   ]
  },
  {
   "cell_type": "markdown",
   "id": "2ac773bd-6cd3-4dd3-9f4d-822f713f1765",
   "metadata": {},
   "source": [
    "# Ans: 37 \n",
    "\n",
    "To estimate the population mean number of ads watched by viewers during a TV program with a 99% confidence interval, we can use the formula for a confidence interval for the mean when the population standard deviation is unknown. Since the sample size is relatively large (n = 50), we can use the t-distribution to calculate the confidence interval.\n",
    "\n",
    "The formula for the confidence interval for the population mean (μ) is:\n",
    "\n",
    "Confidence Interval = **x̄ ± (t * (s / √n))**"
   ]
  },
  {
   "cell_type": "code",
   "execution_count": 17,
   "id": "f59e6088-1c1c-47fe-b51f-ca0ba132023f",
   "metadata": {},
   "outputs": [
    {
     "name": "stdout",
     "output_type": "stream",
     "text": [
      "99% Confidence Interval for Population Mean Number of Ads Watched:\n",
      "Lower bound: 3.4314963358572577\n",
      "Upper bound: 4.568503664142742\n"
     ]
    }
   ],
   "source": [
    "# Given sample statistics\n",
    "sample_mean = 4\n",
    "sample_std = 1.5\n",
    "sample_size = 50\n",
    "\n",
    "# Calculate the critical value (t) for a 99% confidence level\n",
    "confidence_level = 0.99\n",
    "degrees_of_freedom = sample_size - 1\n",
    "t_critical = stats.t.ppf(confidence_level + (1 - confidence_level) / 2, df=degrees_of_freedom)\n",
    "\n",
    "# Calculate the margin of error\n",
    "margin_of_error = t_critical * (sample_std / (sample_size ** 0.5))\n",
    "\n",
    "# Calculate the confidence interval\n",
    "confidence_interval = (sample_mean - margin_of_error, sample_mean + margin_of_error)\n",
    "\n",
    "print(\"99% Confidence Interval for Population Mean Number of Ads Watched:\")\n",
    "print(\"Lower bound:\", confidence_interval[0])\n",
    "print(\"Upper bound:\", confidence_interval[1])"
   ]
  },
  {
   "cell_type": "code",
   "execution_count": null,
   "id": "12752030-c69a-4a10-aae2-387b79f89a79",
   "metadata": {},
   "outputs": [],
   "source": []
  }
 ],
 "metadata": {
  "kernelspec": {
   "display_name": "Python 3 (ipykernel)",
   "language": "python",
   "name": "python3"
  },
  "language_info": {
   "codemirror_mode": {
    "name": "ipython",
    "version": 3
   },
   "file_extension": ".py",
   "mimetype": "text/x-python",
   "name": "python",
   "nbconvert_exporter": "python",
   "pygments_lexer": "ipython3",
   "version": "3.10.8"
  }
 },
 "nbformat": 4,
 "nbformat_minor": 5
}
